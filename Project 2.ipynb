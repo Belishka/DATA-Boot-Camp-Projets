{
 "cells": [
  {
   "cell_type": "code",
   "execution_count": 1,
   "metadata": {
    "collapsed": true
   },
   "outputs": [],
   "source": [
    "#Import libraries\n",
    "import pandas as pd\n",
    "import numpy as np\n",
    "import seaborn; seaborn.set()\n",
    "import matplotlib.pyplot as plt\n",
    "\n",
    "from datetime import datetime\n",
    "\n",
    "%matplotlib inline\n",
    "\n",
    "import seaborn as sns\n",
    "\n"
   ]
  },
  {
   "cell_type": "code",
   "execution_count": 2,
   "metadata": {
    "scrolled": true
   },
   "outputs": [
    {
     "name": "stderr",
     "output_type": "stream",
     "text": [
      "C:\\ProgramData\\Anaconda3\\lib\\site-packages\\IPython\\core\\interactiveshell.py:2698: DtypeWarning: Columns (18,19,20,21,22,23,24,33,34,35,37,43,45) have mixed types. Specify dtype option on import or set low_memory=False.\n",
      "  interactivity=interactivity, compiler=compiler, result=result)\n"
     ]
    }
   ],
   "source": [
    "FileName = \"datasets/DC_Properties.csv\"\n",
    "df = pd.read_csv(FileName)"
   ]
  },
  {
   "cell_type": "code",
   "execution_count": 3,
   "metadata": {},
   "outputs": [
    {
     "data": {
      "text/plain": [
       "Index(['Unnamed: 0', 'BATHRM', 'HF_BATHRM', 'HEAT', 'AC', 'NUM_UNITS', 'ROOMS',\n",
       "       'BEDRM', 'AYB', 'YR_RMDL', 'EYB', 'STORIES', 'SALEDATE', 'PRICE',\n",
       "       'QUALIFIED', 'SALE_NUM', 'GBA', 'BLDG_NUM', 'STYLE', 'STRUCT', 'GRADE',\n",
       "       'CNDTN', 'EXTWALL', 'ROOF', 'INTWALL', 'KITCHENS', 'FIREPLACES',\n",
       "       'USECODE', 'LANDAREA', 'GIS_LAST_MOD_DTTM', 'SOURCE', 'CMPLX_NUM',\n",
       "       'LIVING_GBA', 'FULLADDRESS', 'CITY', 'STATE', 'ZIPCODE', 'NATIONALGRID',\n",
       "       'LATITUDE', 'LONGITUDE', 'ASSESSMENT_NBHD', 'ASSESSMENT_SUBNBHD',\n",
       "       'CENSUS_TRACT', 'CENSUS_BLOCK', 'WARD', 'SQUARE', 'X', 'Y', 'QUADRANT'],\n",
       "      dtype='object')"
      ]
     },
     "execution_count": 3,
     "metadata": {},
     "output_type": "execute_result"
    }
   ],
   "source": [
    "df.columns"
   ]
  },
  {
   "cell_type": "code",
   "execution_count": 11,
   "metadata": {
    "collapsed": true
   },
   "outputs": [],
   "source": [
    "df2 = df[['PRICE', 'ROOMS', 'BEDRM','BATHRM', 'ZIPCODE']]"
   ]
  },
  {
   "cell_type": "code",
   "execution_count": 12,
   "metadata": {
    "collapsed": true
   },
   "outputs": [],
   "source": [
    "df3 = df2.rename(index=lambda x: x + 1)"
   ]
  },
  {
   "cell_type": "code",
   "execution_count": 13,
   "metadata": {
    "collapsed": true
   },
   "outputs": [],
   "source": [
    "df3.dropna(axis=1, how='all', inplace = True)"
   ]
  },
  {
   "cell_type": "code",
   "execution_count": 14,
   "metadata": {
    "scrolled": true
   },
   "outputs": [
    {
     "data": {
      "text/html": [
       "<div>\n",
       "<style>\n",
       "    .dataframe thead tr:only-child th {\n",
       "        text-align: right;\n",
       "    }\n",
       "\n",
       "    .dataframe thead th {\n",
       "        text-align: left;\n",
       "    }\n",
       "\n",
       "    .dataframe tbody tr th {\n",
       "        vertical-align: top;\n",
       "    }\n",
       "</style>\n",
       "<table border=\"1\" class=\"dataframe\">\n",
       "  <thead>\n",
       "    <tr style=\"text-align: right;\">\n",
       "      <th></th>\n",
       "      <th>PRICE</th>\n",
       "      <th>ROOMS</th>\n",
       "      <th>BEDRM</th>\n",
       "      <th>BATHRM</th>\n",
       "      <th>ZIPCODE</th>\n",
       "    </tr>\n",
       "  </thead>\n",
       "  <tbody>\n",
       "    <tr>\n",
       "      <th>PRICE</th>\n",
       "      <td>1.000000</td>\n",
       "      <td>-0.038241</td>\n",
       "      <td>-0.043331</td>\n",
       "      <td>-0.006536</td>\n",
       "      <td>0.001467</td>\n",
       "    </tr>\n",
       "    <tr>\n",
       "      <th>ROOMS</th>\n",
       "      <td>-0.038241</td>\n",
       "      <td>1.000000</td>\n",
       "      <td>0.841309</td>\n",
       "      <td>0.677751</td>\n",
       "      <td>-0.053109</td>\n",
       "    </tr>\n",
       "    <tr>\n",
       "      <th>BEDRM</th>\n",
       "      <td>-0.043331</td>\n",
       "      <td>0.841309</td>\n",
       "      <td>1.000000</td>\n",
       "      <td>0.655563</td>\n",
       "      <td>-0.071962</td>\n",
       "    </tr>\n",
       "    <tr>\n",
       "      <th>BATHRM</th>\n",
       "      <td>-0.006536</td>\n",
       "      <td>0.677751</td>\n",
       "      <td>0.655563</td>\n",
       "      <td>1.000000</td>\n",
       "      <td>-0.063410</td>\n",
       "    </tr>\n",
       "    <tr>\n",
       "      <th>ZIPCODE</th>\n",
       "      <td>0.001467</td>\n",
       "      <td>-0.053109</td>\n",
       "      <td>-0.071962</td>\n",
       "      <td>-0.063410</td>\n",
       "      <td>1.000000</td>\n",
       "    </tr>\n",
       "  </tbody>\n",
       "</table>\n",
       "</div>"
      ],
      "text/plain": [
       "            PRICE     ROOMS     BEDRM    BATHRM   ZIPCODE\n",
       "PRICE    1.000000 -0.038241 -0.043331 -0.006536  0.001467\n",
       "ROOMS   -0.038241  1.000000  0.841309  0.677751 -0.053109\n",
       "BEDRM   -0.043331  0.841309  1.000000  0.655563 -0.071962\n",
       "BATHRM  -0.006536  0.677751  0.655563  1.000000 -0.063410\n",
       "ZIPCODE  0.001467 -0.053109 -0.071962 -0.063410  1.000000"
      ]
     },
     "execution_count": 14,
     "metadata": {},
     "output_type": "execute_result"
    }
   ],
   "source": [
    "df3.corr()"
   ]
  },
  {
   "cell_type": "code",
   "execution_count": 15,
   "metadata": {
    "collapsed": true
   },
   "outputs": [],
   "source": [
    "import statsmodels.formula.api as smf"
   ]
  },
  {
   "cell_type": "code",
   "execution_count": 16,
   "metadata": {
    "collapsed": true
   },
   "outputs": [],
   "source": [
    "result = smf.ols('PRICE ~ ROOMS + BEDRM + BATHRM + ZIPCODE', data=df3).fit()"
   ]
  },
  {
   "cell_type": "code",
   "execution_count": 17,
   "metadata": {},
   "outputs": [
    {
     "data": {
      "text/html": [
       "<table class=\"simpletable\">\n",
       "<caption>OLS Regression Results</caption>\n",
       "<tr>\n",
       "  <th>Dep. Variable:</th>          <td>PRICE</td>      <th>  R-squared:         </th>  <td>   0.003</td>  \n",
       "</tr>\n",
       "<tr>\n",
       "  <th>Model:</th>                   <td>OLS</td>       <th>  Adj. R-squared:    </th>  <td>   0.003</td>  \n",
       "</tr>\n",
       "<tr>\n",
       "  <th>Method:</th>             <td>Least Squares</td>  <th>  F-statistic:       </th>  <td>   79.76</td>  \n",
       "</tr>\n",
       "<tr>\n",
       "  <th>Date:</th>             <td>Thu, 17 Jan 2019</td> <th>  Prob (F-statistic):</th>  <td>1.08e-67</td>  \n",
       "</tr>\n",
       "<tr>\n",
       "  <th>Time:</th>                 <td>14:37:23</td>     <th>  Log-Likelihood:    </th> <td>-1.6881e+06</td>\n",
       "</tr>\n",
       "<tr>\n",
       "  <th>No. Observations:</th>      <td> 98216</td>      <th>  AIC:               </th>  <td>3.376e+06</td> \n",
       "</tr>\n",
       "<tr>\n",
       "  <th>Df Residuals:</th>          <td> 98211</td>      <th>  BIC:               </th>  <td>3.376e+06</td> \n",
       "</tr>\n",
       "<tr>\n",
       "  <th>Df Model:</th>              <td>     4</td>      <th>                     </th>      <td> </td>     \n",
       "</tr>\n",
       "<tr>\n",
       "  <th>Covariance Type:</th>      <td>nonrobust</td>    <th>                     </th>      <td> </td>     \n",
       "</tr>\n",
       "</table>\n",
       "<table class=\"simpletable\">\n",
       "<tr>\n",
       "      <td></td>         <th>coef</th>     <th>std err</th>      <th>t</th>      <th>P>|t|</th>  <th>[0.025</th>    <th>0.975]</th>  \n",
       "</tr>\n",
       "<tr>\n",
       "  <th>Intercept</th> <td> 1.192e+06</td> <td> 2.76e+07</td> <td>    0.043</td> <td> 0.966</td> <td> -5.3e+07</td> <td> 5.54e+07</td>\n",
       "</tr>\n",
       "<tr>\n",
       "  <th>ROOMS</th>     <td>-7.115e+04</td> <td> 1.68e+04</td> <td>   -4.229</td> <td> 0.000</td> <td>-1.04e+05</td> <td>-3.82e+04</td>\n",
       "</tr>\n",
       "<tr>\n",
       "  <th>BEDRM</th>     <td>-3.015e+05</td> <td> 3.18e+04</td> <td>   -9.486</td> <td> 0.000</td> <td>-3.64e+05</td> <td>-2.39e+05</td>\n",
       "</tr>\n",
       "<tr>\n",
       "  <th>BATHRM</th>    <td> 3.938e+05</td> <td> 3.41e+04</td> <td>   11.540</td> <td> 0.000</td> <td> 3.27e+05</td> <td> 4.61e+05</td>\n",
       "</tr>\n",
       "<tr>\n",
       "  <th>ZIPCODE</th>   <td>   10.7217</td> <td> 1380.900</td> <td>    0.008</td> <td> 0.994</td> <td>-2695.826</td> <td> 2717.269</td>\n",
       "</tr>\n",
       "</table>\n",
       "<table class=\"simpletable\">\n",
       "<tr>\n",
       "  <th>Omnibus:</th>       <td>204155.254</td> <th>  Durbin-Watson:     </th>   <td>   0.773</td>   \n",
       "</tr>\n",
       "<tr>\n",
       "  <th>Prob(Omnibus):</th>   <td> 0.000</td>   <th>  Jarque-Bera (JB):  </th> <td>486547582.366</td>\n",
       "</tr>\n",
       "<tr>\n",
       "  <th>Skew:</th>            <td>18.231</td>   <th>  Prob(JB):          </th>   <td>    0.00</td>   \n",
       "</tr>\n",
       "<tr>\n",
       "  <th>Kurtosis:</th>        <td>345.875</td>  <th>  Cond. No.          </th>   <td>2.46e+07</td>   \n",
       "</tr>\n",
       "</table>"
      ],
      "text/plain": [
       "<class 'statsmodels.iolib.summary.Summary'>\n",
       "\"\"\"\n",
       "                            OLS Regression Results                            \n",
       "==============================================================================\n",
       "Dep. Variable:                  PRICE   R-squared:                       0.003\n",
       "Model:                            OLS   Adj. R-squared:                  0.003\n",
       "Method:                 Least Squares   F-statistic:                     79.76\n",
       "Date:                Thu, 17 Jan 2019   Prob (F-statistic):           1.08e-67\n",
       "Time:                        14:37:23   Log-Likelihood:            -1.6881e+06\n",
       "No. Observations:               98216   AIC:                         3.376e+06\n",
       "Df Residuals:                   98211   BIC:                         3.376e+06\n",
       "Df Model:                           4                                         \n",
       "Covariance Type:            nonrobust                                         \n",
       "==============================================================================\n",
       "                 coef    std err          t      P>|t|      [0.025      0.975]\n",
       "------------------------------------------------------------------------------\n",
       "Intercept   1.192e+06   2.76e+07      0.043      0.966    -5.3e+07    5.54e+07\n",
       "ROOMS      -7.115e+04   1.68e+04     -4.229      0.000   -1.04e+05   -3.82e+04\n",
       "BEDRM      -3.015e+05   3.18e+04     -9.486      0.000   -3.64e+05   -2.39e+05\n",
       "BATHRM      3.938e+05   3.41e+04     11.540      0.000    3.27e+05    4.61e+05\n",
       "ZIPCODE       10.7217   1380.900      0.008      0.994   -2695.826    2717.269\n",
       "==============================================================================\n",
       "Omnibus:                   204155.254   Durbin-Watson:                   0.773\n",
       "Prob(Omnibus):                  0.000   Jarque-Bera (JB):        486547582.366\n",
       "Skew:                          18.231   Prob(JB):                         0.00\n",
       "Kurtosis:                     345.875   Cond. No.                     2.46e+07\n",
       "==============================================================================\n",
       "\n",
       "Warnings:\n",
       "[1] Standard Errors assume that the covariance matrix of the errors is correctly specified.\n",
       "[2] The condition number is large, 2.46e+07. This might indicate that there are\n",
       "strong multicollinearity or other numerical problems.\n",
       "\"\"\""
      ]
     },
     "execution_count": 17,
     "metadata": {},
     "output_type": "execute_result"
    }
   ],
   "source": [
    "result.summary()"
   ]
  },
  {
   "cell_type": "code",
   "execution_count": 31,
   "metadata": {
    "collapsed": true
   },
   "outputs": [],
   "source": [
    "result = smf.ols('PRICE ~ BEDRM + ZIPCODE', data=df3).fit()"
   ]
  },
  {
   "cell_type": "code",
   "execution_count": 18,
   "metadata": {
    "collapsed": true
   },
   "outputs": [],
   "source": [
    "result = smf.ols('PRICE ~ ROOMS + BEDRM + BATHRM', data=df3).fit()\n"
   ]
  },
  {
   "cell_type": "code",
   "execution_count": 19,
   "metadata": {},
   "outputs": [
    {
     "data": {
      "text/html": [
       "<table class=\"simpletable\">\n",
       "<caption>OLS Regression Results</caption>\n",
       "<tr>\n",
       "  <th>Dep. Variable:</th>          <td>PRICE</td>      <th>  R-squared:         </th>  <td>   0.003</td>  \n",
       "</tr>\n",
       "<tr>\n",
       "  <th>Model:</th>                   <td>OLS</td>       <th>  Adj. R-squared:    </th>  <td>   0.003</td>  \n",
       "</tr>\n",
       "<tr>\n",
       "  <th>Method:</th>             <td>Least Squares</td>  <th>  F-statistic:       </th>  <td>   106.4</td>  \n",
       "</tr>\n",
       "<tr>\n",
       "  <th>Date:</th>             <td>Thu, 17 Jan 2019</td> <th>  Prob (F-statistic):</th>  <td>9.63e-69</td>  \n",
       "</tr>\n",
       "<tr>\n",
       "  <th>Time:</th>                 <td>14:38:29</td>     <th>  Log-Likelihood:    </th> <td>-1.6881e+06</td>\n",
       "</tr>\n",
       "<tr>\n",
       "  <th>No. Observations:</th>      <td> 98216</td>      <th>  AIC:               </th>  <td>3.376e+06</td> \n",
       "</tr>\n",
       "<tr>\n",
       "  <th>Df Residuals:</th>          <td> 98212</td>      <th>  BIC:               </th>  <td>3.376e+06</td> \n",
       "</tr>\n",
       "<tr>\n",
       "  <th>Df Model:</th>              <td>     3</td>      <th>                     </th>      <td> </td>     \n",
       "</tr>\n",
       "<tr>\n",
       "  <th>Covariance Type:</th>      <td>nonrobust</td>    <th>                     </th>      <td> </td>     \n",
       "</tr>\n",
       "</table>\n",
       "<table class=\"simpletable\">\n",
       "<tr>\n",
       "      <td></td>         <th>coef</th>     <th>std err</th>      <th>t</th>      <th>P>|t|</th>  <th>[0.025</th>    <th>0.975]</th>  \n",
       "</tr>\n",
       "<tr>\n",
       "  <th>Intercept</th> <td> 1.406e+06</td> <td> 5.63e+04</td> <td>   24.974</td> <td> 0.000</td> <td>  1.3e+06</td> <td> 1.52e+06</td>\n",
       "</tr>\n",
       "<tr>\n",
       "  <th>ROOMS</th>     <td>-7.114e+04</td> <td> 1.68e+04</td> <td>   -4.231</td> <td> 0.000</td> <td>-1.04e+05</td> <td>-3.82e+04</td>\n",
       "</tr>\n",
       "<tr>\n",
       "  <th>BEDRM</th>     <td>-3.015e+05</td> <td> 3.18e+04</td> <td>   -9.493</td> <td> 0.000</td> <td>-3.64e+05</td> <td>-2.39e+05</td>\n",
       "</tr>\n",
       "<tr>\n",
       "  <th>BATHRM</th>    <td> 3.938e+05</td> <td> 3.41e+04</td> <td>   11.544</td> <td> 0.000</td> <td> 3.27e+05</td> <td> 4.61e+05</td>\n",
       "</tr>\n",
       "</table>\n",
       "<table class=\"simpletable\">\n",
       "<tr>\n",
       "  <th>Omnibus:</th>       <td>204155.299</td> <th>  Durbin-Watson:     </th>   <td>   0.773</td>   \n",
       "</tr>\n",
       "<tr>\n",
       "  <th>Prob(Omnibus):</th>   <td> 0.000</td>   <th>  Jarque-Bera (JB):  </th> <td>486548331.643</td>\n",
       "</tr>\n",
       "<tr>\n",
       "  <th>Skew:</th>            <td>18.231</td>   <th>  Prob(JB):          </th>   <td>    0.00</td>   \n",
       "</tr>\n",
       "<tr>\n",
       "  <th>Kurtosis:</th>        <td>345.875</td>  <th>  Cond. No.          </th>   <td>    19.0</td>   \n",
       "</tr>\n",
       "</table>"
      ],
      "text/plain": [
       "<class 'statsmodels.iolib.summary.Summary'>\n",
       "\"\"\"\n",
       "                            OLS Regression Results                            \n",
       "==============================================================================\n",
       "Dep. Variable:                  PRICE   R-squared:                       0.003\n",
       "Model:                            OLS   Adj. R-squared:                  0.003\n",
       "Method:                 Least Squares   F-statistic:                     106.4\n",
       "Date:                Thu, 17 Jan 2019   Prob (F-statistic):           9.63e-69\n",
       "Time:                        14:38:29   Log-Likelihood:            -1.6881e+06\n",
       "No. Observations:               98216   AIC:                         3.376e+06\n",
       "Df Residuals:                   98212   BIC:                         3.376e+06\n",
       "Df Model:                           3                                         \n",
       "Covariance Type:            nonrobust                                         \n",
       "==============================================================================\n",
       "                 coef    std err          t      P>|t|      [0.025      0.975]\n",
       "------------------------------------------------------------------------------\n",
       "Intercept   1.406e+06   5.63e+04     24.974      0.000     1.3e+06    1.52e+06\n",
       "ROOMS      -7.114e+04   1.68e+04     -4.231      0.000   -1.04e+05   -3.82e+04\n",
       "BEDRM      -3.015e+05   3.18e+04     -9.493      0.000   -3.64e+05   -2.39e+05\n",
       "BATHRM      3.938e+05   3.41e+04     11.544      0.000    3.27e+05    4.61e+05\n",
       "==============================================================================\n",
       "Omnibus:                   204155.299   Durbin-Watson:                   0.773\n",
       "Prob(Omnibus):                  0.000   Jarque-Bera (JB):        486548331.643\n",
       "Skew:                          18.231   Prob(JB):                         0.00\n",
       "Kurtosis:                     345.875   Cond. No.                         19.0\n",
       "==============================================================================\n",
       "\n",
       "Warnings:\n",
       "[1] Standard Errors assume that the covariance matrix of the errors is correctly specified.\n",
       "\"\"\""
      ]
     },
     "execution_count": 19,
     "metadata": {},
     "output_type": "execute_result"
    }
   ],
   "source": [
    "result.summary()"
   ]
  },
  {
   "cell_type": "code",
   "execution_count": 20,
   "metadata": {},
   "outputs": [
    {
     "data": {
      "text/html": [
       "<table class=\"simpletable\">\n",
       "<caption>OLS Regression Results</caption>\n",
       "<tr>\n",
       "  <th>Dep. Variable:</th>          <td>PRICE</td>      <th>  R-squared:         </th>  <td>   0.002</td>  \n",
       "</tr>\n",
       "<tr>\n",
       "  <th>Model:</th>                   <td>OLS</td>       <th>  Adj. R-squared:    </th>  <td>   0.002</td>  \n",
       "</tr>\n",
       "<tr>\n",
       "  <th>Method:</th>             <td>Least Squares</td>  <th>  F-statistic:       </th>  <td>   92.77</td>  \n",
       "</tr>\n",
       "<tr>\n",
       "  <th>Date:</th>             <td>Thu, 17 Jan 2019</td> <th>  Prob (F-statistic):</th>  <td>5.58e-41</td>  \n",
       "</tr>\n",
       "<tr>\n",
       "  <th>Time:</th>                 <td>14:40:42</td>     <th>  Log-Likelihood:    </th> <td>-1.6881e+06</td>\n",
       "</tr>\n",
       "<tr>\n",
       "  <th>No. Observations:</th>      <td> 98216</td>      <th>  AIC:               </th>  <td>3.376e+06</td> \n",
       "</tr>\n",
       "<tr>\n",
       "  <th>Df Residuals:</th>          <td> 98213</td>      <th>  BIC:               </th>  <td>3.376e+06</td> \n",
       "</tr>\n",
       "<tr>\n",
       "  <th>Df Model:</th>              <td>     2</td>      <th>                     </th>      <td> </td>     \n",
       "</tr>\n",
       "<tr>\n",
       "  <th>Covariance Type:</th>      <td>nonrobust</td>    <th>                     </th>      <td> </td>     \n",
       "</tr>\n",
       "</table>\n",
       "<table class=\"simpletable\">\n",
       "<tr>\n",
       "      <td></td>         <th>coef</th>     <th>std err</th>      <th>t</th>      <th>P>|t|</th>  <th>[0.025</th>    <th>0.975]</th>  \n",
       "</tr>\n",
       "<tr>\n",
       "  <th>Intercept</th> <td> 1.528e+06</td> <td> 5.53e+04</td> <td>   27.619</td> <td> 0.000</td> <td> 1.42e+06</td> <td> 1.64e+06</td>\n",
       "</tr>\n",
       "<tr>\n",
       "  <th>ROOMS</th>     <td>-1.434e+04</td> <td> 1.61e+04</td> <td>   -0.891</td> <td> 0.373</td> <td>-4.59e+04</td> <td> 1.72e+04</td>\n",
       "</tr>\n",
       "<tr>\n",
       "  <th>BEDRM</th>     <td>-1.965e+05</td> <td> 3.05e+04</td> <td>   -6.454</td> <td> 0.000</td> <td>-2.56e+05</td> <td>-1.37e+05</td>\n",
       "</tr>\n",
       "</table>\n",
       "<table class=\"simpletable\">\n",
       "<tr>\n",
       "  <th>Omnibus:</th>       <td>204068.410</td> <th>  Durbin-Watson:     </th>   <td>   0.772</td>   \n",
       "</tr>\n",
       "<tr>\n",
       "  <th>Prob(Omnibus):</th>   <td> 0.000</td>   <th>  Jarque-Bera (JB):  </th> <td>485186052.355</td>\n",
       "</tr>\n",
       "<tr>\n",
       "  <th>Skew:</th>            <td>18.214</td>   <th>  Prob(JB):          </th>   <td>    0.00</td>   \n",
       "</tr>\n",
       "<tr>\n",
       "  <th>Kurtosis:</th>        <td>345.393</td>  <th>  Cond. No.          </th>   <td>    17.8</td>   \n",
       "</tr>\n",
       "</table>"
      ],
      "text/plain": [
       "<class 'statsmodels.iolib.summary.Summary'>\n",
       "\"\"\"\n",
       "                            OLS Regression Results                            \n",
       "==============================================================================\n",
       "Dep. Variable:                  PRICE   R-squared:                       0.002\n",
       "Model:                            OLS   Adj. R-squared:                  0.002\n",
       "Method:                 Least Squares   F-statistic:                     92.77\n",
       "Date:                Thu, 17 Jan 2019   Prob (F-statistic):           5.58e-41\n",
       "Time:                        14:40:42   Log-Likelihood:            -1.6881e+06\n",
       "No. Observations:               98216   AIC:                         3.376e+06\n",
       "Df Residuals:                   98213   BIC:                         3.376e+06\n",
       "Df Model:                           2                                         \n",
       "Covariance Type:            nonrobust                                         \n",
       "==============================================================================\n",
       "                 coef    std err          t      P>|t|      [0.025      0.975]\n",
       "------------------------------------------------------------------------------\n",
       "Intercept   1.528e+06   5.53e+04     27.619      0.000    1.42e+06    1.64e+06\n",
       "ROOMS      -1.434e+04   1.61e+04     -0.891      0.373   -4.59e+04    1.72e+04\n",
       "BEDRM      -1.965e+05   3.05e+04     -6.454      0.000   -2.56e+05   -1.37e+05\n",
       "==============================================================================\n",
       "Omnibus:                   204068.410   Durbin-Watson:                   0.772\n",
       "Prob(Omnibus):                  0.000   Jarque-Bera (JB):        485186052.355\n",
       "Skew:                          18.214   Prob(JB):                         0.00\n",
       "Kurtosis:                     345.393   Cond. No.                         17.8\n",
       "==============================================================================\n",
       "\n",
       "Warnings:\n",
       "[1] Standard Errors assume that the covariance matrix of the errors is correctly specified.\n",
       "\"\"\""
      ]
     },
     "execution_count": 20,
     "metadata": {},
     "output_type": "execute_result"
    }
   ],
   "source": [
    "result = smf.ols('PRICE ~ ROOMS + BEDRM', data=df3).fit()\n",
    "result.summary()"
   ]
  },
  {
   "cell_type": "code",
   "execution_count": 21,
   "metadata": {},
   "outputs": [
    {
     "data": {
      "text/html": [
       "<table class=\"simpletable\">\n",
       "<caption>OLS Regression Results</caption>\n",
       "<tr>\n",
       "  <th>Dep. Variable:</th>          <td>PRICE</td>      <th>  R-squared:         </th>  <td>   0.003</td>  \n",
       "</tr>\n",
       "<tr>\n",
       "  <th>Model:</th>                   <td>OLS</td>       <th>  Adj. R-squared:    </th>  <td>   0.003</td>  \n",
       "</tr>\n",
       "<tr>\n",
       "  <th>Method:</th>             <td>Least Squares</td>  <th>  F-statistic:       </th>  <td>   150.6</td>  \n",
       "</tr>\n",
       "<tr>\n",
       "  <th>Date:</th>             <td>Thu, 17 Jan 2019</td> <th>  Prob (F-statistic):</th>  <td>5.19e-66</td>  \n",
       "</tr>\n",
       "<tr>\n",
       "  <th>Time:</th>                 <td>14:42:53</td>     <th>  Log-Likelihood:    </th> <td>-1.6881e+06</td>\n",
       "</tr>\n",
       "<tr>\n",
       "  <th>No. Observations:</th>      <td> 98216</td>      <th>  AIC:               </th>  <td>3.376e+06</td> \n",
       "</tr>\n",
       "<tr>\n",
       "  <th>Df Residuals:</th>          <td> 98213</td>      <th>  BIC:               </th>  <td>3.376e+06</td> \n",
       "</tr>\n",
       "<tr>\n",
       "  <th>Df Model:</th>              <td>     2</td>      <th>                     </th>      <td> </td>     \n",
       "</tr>\n",
       "<tr>\n",
       "  <th>Covariance Type:</th>      <td>nonrobust</td>    <th>                     </th>      <td> </td>     \n",
       "</tr>\n",
       "</table>\n",
       "<table class=\"simpletable\">\n",
       "<tr>\n",
       "      <td></td>         <th>coef</th>     <th>std err</th>      <th>t</th>      <th>P>|t|</th>  <th>[0.025</th>    <th>0.975]</th>  \n",
       "</tr>\n",
       "<tr>\n",
       "  <th>Intercept</th> <td> 1.306e+06</td> <td> 5.11e+04</td> <td>   25.559</td> <td> 0.000</td> <td> 1.21e+06</td> <td> 1.41e+06</td>\n",
       "</tr>\n",
       "<tr>\n",
       "  <th>BEDRM</th>     <td>-3.946e+05</td> <td> 2.29e+04</td> <td>  -17.231</td> <td> 0.000</td> <td>-4.39e+05</td> <td> -3.5e+05</td>\n",
       "</tr>\n",
       "<tr>\n",
       "  <th>BATHRM</th>    <td> 3.516e+05</td> <td> 3.26e+04</td> <td>   10.777</td> <td> 0.000</td> <td> 2.88e+05</td> <td> 4.16e+05</td>\n",
       "</tr>\n",
       "</table>\n",
       "<table class=\"simpletable\">\n",
       "<tr>\n",
       "  <th>Omnibus:</th>       <td>204169.922</td> <th>  Durbin-Watson:     </th>   <td>   0.773</td>   \n",
       "</tr>\n",
       "<tr>\n",
       "  <th>Prob(Omnibus):</th>   <td> 0.000</td>   <th>  Jarque-Bera (JB):  </th> <td>486744883.047</td>\n",
       "</tr>\n",
       "<tr>\n",
       "  <th>Skew:</th>            <td>18.234</td>   <th>  Prob(JB):          </th>   <td>    0.00</td>   \n",
       "</tr>\n",
       "<tr>\n",
       "  <th>Kurtosis:</th>        <td>345.944</td>  <th>  Cond. No.          </th>   <td>    8.72</td>   \n",
       "</tr>\n",
       "</table>"
      ],
      "text/plain": [
       "<class 'statsmodels.iolib.summary.Summary'>\n",
       "\"\"\"\n",
       "                            OLS Regression Results                            \n",
       "==============================================================================\n",
       "Dep. Variable:                  PRICE   R-squared:                       0.003\n",
       "Model:                            OLS   Adj. R-squared:                  0.003\n",
       "Method:                 Least Squares   F-statistic:                     150.6\n",
       "Date:                Thu, 17 Jan 2019   Prob (F-statistic):           5.19e-66\n",
       "Time:                        14:42:53   Log-Likelihood:            -1.6881e+06\n",
       "No. Observations:               98216   AIC:                         3.376e+06\n",
       "Df Residuals:                   98213   BIC:                         3.376e+06\n",
       "Df Model:                           2                                         \n",
       "Covariance Type:            nonrobust                                         \n",
       "==============================================================================\n",
       "                 coef    std err          t      P>|t|      [0.025      0.975]\n",
       "------------------------------------------------------------------------------\n",
       "Intercept   1.306e+06   5.11e+04     25.559      0.000    1.21e+06    1.41e+06\n",
       "BEDRM      -3.946e+05   2.29e+04    -17.231      0.000   -4.39e+05    -3.5e+05\n",
       "BATHRM      3.516e+05   3.26e+04     10.777      0.000    2.88e+05    4.16e+05\n",
       "==============================================================================\n",
       "Omnibus:                   204169.922   Durbin-Watson:                   0.773\n",
       "Prob(Omnibus):                  0.000   Jarque-Bera (JB):        486744883.047\n",
       "Skew:                          18.234   Prob(JB):                         0.00\n",
       "Kurtosis:                     345.944   Cond. No.                         8.72\n",
       "==============================================================================\n",
       "\n",
       "Warnings:\n",
       "[1] Standard Errors assume that the covariance matrix of the errors is correctly specified.\n",
       "\"\"\""
      ]
     },
     "execution_count": 21,
     "metadata": {},
     "output_type": "execute_result"
    }
   ],
   "source": [
    "result = smf.ols('PRICE ~ BEDRM + BATHRM', data=df3).fit()\n",
    "result.summary()"
   ]
  },
  {
   "cell_type": "code",
   "execution_count": 29,
   "metadata": {},
   "outputs": [
    {
     "data": {
      "text/plain": [
       "<seaborn.axisgrid.FacetGrid at 0x20924f32908>"
      ]
     },
     "execution_count": 29,
     "metadata": {},
     "output_type": "execute_result"
    },
    {
     "data": {
      "image/png": "[encoded data removed]",
      "text/plain": [
       "<matplotlib.figure.Figure at 0x20924f322e8>"
      ]
     },
     "metadata": {},
     "output_type": "display_data"
    }
   ],
   "source": [
    "#make a scatterplot\n",
    "sns.lmplot(x='BEDRM', y='PRICE', data=df3)"
   ]
  },
  {
   "cell_type": "code",
   "execution_count": 30,
   "metadata": {},
   "outputs": [
    {
     "data": {
      "text/plain": [
       "<matplotlib.axes._subplots.AxesSubplot at 0x20924fd89b0>"
      ]
     },
     "execution_count": 30,
     "metadata": {},
     "output_type": "execute_result"
    },
    {
     "data": {
      "image/png": "[encoded data removed]",
      "text/plain": [
       "<matplotlib.figure.Figure at 0x2091f5f47b8>"
      ]
     },
     "metadata": {},
     "output_type": "display_data"
    }
   ],
   "source": [
    "sns.boxplot(data=df)"
   ]
  },
  {
   "cell_type": "code",
   "execution_count": 31,
   "metadata": {},
   "outputs": [
    {
     "data": {
      "text/plain": [
       "PRICE      60741\n",
       "ROOMS          0\n",
       "BEDRM          0\n",
       "BATHRM         0\n",
       "ZIPCODE        1\n",
       "dtype: int64"
      ]
     },
     "execution_count": 31,
     "metadata": {},
     "output_type": "execute_result"
    }
   ],
   "source": [
    "df3.isnull().sum()"
   ]
  },
  {
   "cell_type": "code",
   "execution_count": null,
   "metadata": {
    "collapsed": true
   },
   "outputs": [],
   "source": []
  }
 ],
 "metadata": {
  "kernelspec": {
   "display_name": "Python 3",
   "language": "python",
   "name": "python3"
  },
  "language_info": {
   "codemirror_mode": {
    "name": "ipython",
    "version": 3
   },
   "file_extension": ".py",
   "mimetype": "text/x-python",
   "name": "python",
   "nbconvert_exporter": "python",
   "pygments_lexer": "ipython3",
   "version": "3.6.3"
  }
 },
 "nbformat": 4,
 "nbformat_minor": 2
}
